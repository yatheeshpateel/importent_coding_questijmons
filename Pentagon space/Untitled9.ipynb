{
 "cells": [
  {
   "cell_type": "code",
   "execution_count": 4,
   "id": "afa02359",
   "metadata": {},
   "outputs": [
    {
     "name": "stdout",
     "output_type": "stream",
     "text": [
      "[10, 20, 40, 50, 60]\n",
      "[10, 20, 40, 50]\n",
      "[10, 20, 50]\n",
      "1\n"
     ]
    }
   ],
   "source": [
    "a = [10,20,30,40,50,60]\n",
    "a.remove(30)\n",
    "print(a)\n",
    "a.pop()\n",
    "print(a)\n",
    "a.pop(2)\n",
    "print(a)\n",
    "print(a.index(20))\n"
   ]
  },
  {
   "cell_type": "code",
   "execution_count": 6,
   "id": "6a2eeefe",
   "metadata": {},
   "outputs": [
    {
     "name": "stdout",
     "output_type": "stream",
     "text": [
      "[10, 20, 40, 50, 60]\n",
      "[10, 20, 40, 50]\n",
      "[10, 20, 50]\n",
      "1\n",
      "[]\n"
     ]
    },
    {
     "ename": "NameError",
     "evalue": "name 'a' is not defined",
     "output_type": "error",
     "traceback": [
      "\u001b[1;31m---------------------------------------------------------------------------\u001b[0m",
      "\u001b[1;31mNameError\u001b[0m                                 Traceback (most recent call last)",
      "Cell \u001b[1;32mIn[6], line 12\u001b[0m\n\u001b[0;32m     10\u001b[0m \u001b[38;5;28mprint\u001b[39m(a)\n\u001b[0;32m     11\u001b[0m \u001b[38;5;28;01mdel\u001b[39;00m a\n\u001b[1;32m---> 12\u001b[0m \u001b[38;5;28mprint\u001b[39m(\u001b[43ma\u001b[49m)\n",
      "\u001b[1;31mNameError\u001b[0m: name 'a' is not defined"
     ]
    }
   ],
   "source": [
    "a = [10,20,30,40,50,60]\n",
    "a.remove(30)\n",
    "print(a)\n",
    "a.pop()\n",
    "print(a)\n",
    "a.pop(2)\n",
    "print(a)\n",
    "print(a.index(20))\n",
    "a.clear()\n",
    "print(a)\n",
    "del a\n",
    "print(a)"
   ]
  },
  {
   "cell_type": "code",
   "execution_count": 7,
   "id": "6db4de44",
   "metadata": {},
   "outputs": [
    {
     "name": "stdout",
     "output_type": "stream",
     "text": [
      "10\n",
      "20\n",
      "30\n",
      "40\n",
      "50\n"
     ]
    }
   ],
   "source": [
    "a= [10,20,30,40,50]\n",
    "for i in a:\n",
    "    print(i)"
   ]
  },
  {
   "cell_type": "code",
   "execution_count": 9,
   "id": "51dd1713",
   "metadata": {},
   "outputs": [
    {
     "name": "stdout",
     "output_type": "stream",
     "text": [
      "0   10\n",
      "1   20\n",
      "2   30\n",
      "3   40\n",
      "4   50\n"
     ]
    }
   ],
   "source": [
    "a= [10,20,30,40,50]\n",
    "for index,value in enumerate(a):\n",
    "    print(index,\" \",value)"
   ]
  },
  {
   "cell_type": "code",
   "execution_count": null,
   "id": "81441a7d",
   "metadata": {},
   "outputs": [],
   "source": []
  }
 ],
 "metadata": {
  "kernelspec": {
   "display_name": "Python 3 (ipykernel)",
   "language": "python",
   "name": "python3"
  },
  "language_info": {
   "codemirror_mode": {
    "name": "ipython",
    "version": 3
   },
   "file_extension": ".py",
   "mimetype": "text/x-python",
   "name": "python",
   "nbconvert_exporter": "python",
   "pygments_lexer": "ipython3",
   "version": "3.9.12"
  }
 },
 "nbformat": 4,
 "nbformat_minor": 5
}

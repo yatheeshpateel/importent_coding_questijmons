{
 "cells": [
  {
   "cell_type": "code",
   "execution_count": 4,
   "id": "54fad632",
   "metadata": {},
   "outputs": [
    {
     "name": "stdout",
     "output_type": "stream",
     "text": [
      "0\n",
      "1\n",
      "2\n",
      "3\n",
      "4\n",
      "5\n",
      "6\n",
      "None\n"
     ]
    }
   ],
   "source": [
    "def print_num(num):\n",
    "    if num == 0:\n",
    "        print(num)\n",
    "        return\n",
    "    print_num(num-1)\n",
    "    print(num)\n",
    "    \n",
    "num = 6\n",
    "res = print_num(num)\n",
    "print(res)"
   ]
  },
  {
   "cell_type": "code",
   "execution_count": 5,
   "id": "5958aea8",
   "metadata": {},
   "outputs": [
    {
     "name": "stdout",
     "output_type": "stream",
     "text": [
      "enter the number10\n",
      "1\n",
      "2\n",
      "3\n",
      "4\n",
      "5\n",
      "6\n",
      "7\n",
      "8\n",
      "9\n",
      "10\n"
     ]
    }
   ],
   "source": [
    "n = int(input(\"enter the number\"))\n",
    "for i in range(1,n+1):\n",
    "    print(i)"
   ]
  },
  {
   "cell_type": "code",
   "execution_count": 8,
   "id": "4d3e4688",
   "metadata": {},
   "outputs": [
    {
     "name": "stdout",
     "output_type": "stream",
     "text": [
      "enter the number10\n",
      "2\n",
      "4\n",
      "6\n",
      "8\n",
      "10\n"
     ]
    }
   ],
   "source": [
    "n = int(input(\"enter the number \"))\n",
    "for i in range(1,n+1):\n",
    "    if i %2 == 0:\n",
    "        print(i)"
   ]
  },
  {
   "cell_type": "code",
   "execution_count": 17,
   "id": "50a5f99e",
   "metadata": {},
   "outputs": [
    {
     "name": "stdout",
     "output_type": "stream",
     "text": [
      "enter the number 20\n",
      "1 2\n",
      "3 4\n",
      "5 6\n",
      "7 8\n",
      "9 10\n",
      "11 12\n",
      "13 14\n",
      "15 16\n",
      "17 18\n",
      "19 20\n"
     ]
    }
   ],
   "source": [
    "n = int(input(\"enter the number \"))\n",
    "\n",
    "\n",
    "for i in range(1,n+1):\n",
    "    if i%2 != 0:\n",
    "        print(i,end = \" \")\n",
    "    else:\n",
    "        print(i)\n",
    "        \n",
    "\n",
    "    "
   ]
  },
  {
   "cell_type": "markdown",
   "id": "20e2822c",
   "metadata": {},
   "source": [
    "# prime number \n"
   ]
  },
  {
   "cell_type": "code",
   "execution_count": 7,
   "id": "ba811248",
   "metadata": {},
   "outputs": [
    {
     "name": "stdout",
     "output_type": "stream",
     "text": [
      "1\n",
      "2\n",
      "3\n",
      "5\n",
      "7\n",
      "11\n",
      "13\n",
      "17\n",
      "19\n",
      "23\n",
      "29\n",
      "31\n",
      "37\n",
      "41\n",
      "43\n",
      "47\n",
      "53\n",
      "59\n",
      "61\n",
      "67\n",
      "71\n",
      "73\n",
      "79\n",
      "83\n",
      "89\n",
      "97\n"
     ]
    }
   ],
   "source": [
    "def prime(num):\n",
    "    for i in range(2,num):\n",
    "        if num%i == 0:\n",
    "            return False\n",
    "    return True\n",
    "\n",
    "for k in range(1,100):\n",
    "    num = k\n",
    "    res = prime(num)\n",
    "    if res == True:\n",
    "        print((num))\n",
    "    "
   ]
  },
  {
   "cell_type": "code",
   "execution_count": 1,
   "id": "430b547b",
   "metadata": {},
   "outputs": [
    {
     "name": "stdout",
     "output_type": "stream",
     "text": [
      "enter the number-2\n",
      "it's not\n"
     ]
    }
   ],
   "source": [
    "def check_prime(num):\n",
    "    if(num<=1):\n",
    "        return False\n",
    "    for i in range(2,num):\n",
    "        if(num%i == 0):\n",
    "            return False\n",
    "    return True\n",
    "\n",
    "num = int(input(\"enter the number\"))\n",
    "res = check_prime(num)\n",
    "if(res == True):\n",
    "    print(\"it's prime\")\n",
    "else:\n",
    "    print(\"it's not\")"
   ]
  },
  {
   "cell_type": "code",
   "execution_count": 8,
   "id": "68e6f8a2",
   "metadata": {},
   "outputs": [
    {
     "data": {
      "text/plain": [
       "17"
      ]
     },
     "execution_count": 8,
     "metadata": {},
     "output_type": "execute_result"
    }
   ],
   "source": [
    "35//2"
   ]
  },
  {
   "cell_type": "code",
   "execution_count": 29,
   "id": "7342f16b",
   "metadata": {
    "scrolled": true
   },
   "outputs": [
    {
     "name": "stdout",
     "output_type": "stream",
     "text": [
      "1\n",
      "2\n",
      "3\n",
      "5\n",
      "7\n",
      "11\n",
      "13\n",
      "17\n",
      "19\n",
      "23\n",
      "29\n",
      "31\n",
      "37\n",
      "41\n",
      "43\n",
      "47\n"
     ]
    }
   ],
   "source": [
    "def check_prime(num):\n",
    "    for i in range(2,num):\n",
    "        if(num%i == 0):\n",
    "            return False\n",
    "    return True\n",
    "for k in range(1,50):\n",
    "    num = k\n",
    "    res = check_prime(num)\n",
    "    if res == True:\n",
    "        print(num)\n"
   ]
  },
  {
   "cell_type": "markdown",
   "id": "9fd403b5",
   "metadata": {},
   "source": [
    "# Perfect or not"
   ]
  },
  {
   "cell_type": "code",
   "execution_count": 13,
   "id": "a11d33db",
   "metadata": {},
   "outputs": [
    {
     "name": "stdout",
     "output_type": "stream",
     "text": [
      "6\n",
      "28\n",
      "496\n"
     ]
    }
   ],
   "source": [
    "def check_perfect(num):\n",
    "    sum = 0\n",
    "    for i in range(1,num):\n",
    "        if(num%i == 0):\n",
    "            sum = i+sum\n",
    "    return sum\n",
    "for k in range(1,1000):\n",
    "    num = k\n",
    "  \n",
    "    res = check_perfect(num)\n",
    "    if(res== num):\n",
    "        print(num)\n",
    "  \n",
    "\n"
   ]
  },
  {
   "cell_type": "code",
   "execution_count": 7,
   "id": "c821c4a1",
   "metadata": {},
   "outputs": [
    {
     "name": "stdout",
     "output_type": "stream",
     "text": [
      "6\n",
      "28\n",
      "496\n"
     ]
    }
   ],
   "source": [
    "def check_perfect(num):\n",
    "    sum = 0\n",
    "    for i in range(1,num):\n",
    "        if(num%i == 0):\n",
    "            sum = i+sum\n",
    "    return sum\n",
    "\n",
    "for k in range(1,1000):\n",
    "    num = k\n",
    "    res = check_perfect(num)\n",
    "    if(res== num):\n",
    "        print(num)"
   ]
  },
  {
   "cell_type": "code",
   "execution_count": 14,
   "id": "ad8e6233",
   "metadata": {},
   "outputs": [
    {
     "data": {
      "text/plain": [
       "5"
      ]
     },
     "execution_count": 14,
     "metadata": {},
     "output_type": "execute_result"
    }
   ],
   "source": [
    "12345%10"
   ]
  },
  {
   "cell_type": "markdown",
   "id": "71dce0f8",
   "metadata": {},
   "source": [
    "#  reverse a number"
   ]
  },
  {
   "cell_type": "code",
   "execution_count": 49,
   "id": "0fd9fb09",
   "metadata": {},
   "outputs": [
    {
     "name": "stdout",
     "output_type": "stream",
     "text": [
      "54321\n"
     ]
    }
   ],
   "source": [
    "def reverse(num):\n",
    "    res = 0\n",
    "    while(num != 0):\n",
    "        rem = num%10\n",
    "        res = (res*10)+rem\n",
    "        num = num//10\n",
    "    return res\n",
    "num = 12345\n",
    "res = reverse(num)\n",
    "print(res)"
   ]
  },
  {
   "cell_type": "markdown",
   "id": "0f02c692",
   "metadata": {},
   "source": [
    "# Pallindrome"
   ]
  },
  {
   "cell_type": "code",
   "execution_count": 48,
   "id": "ac42dab7",
   "metadata": {},
   "outputs": [
    {
     "name": "stdout",
     "output_type": "stream",
     "text": [
      "not\n"
     ]
    }
   ],
   "source": [
    "def pallindrom(num):\n",
    "    res = 0\n",
    "    while(num != 0):\n",
    "        rem = num%10\n",
    "        res = (res*10)+rem\n",
    "        num = num//10\n",
    "    return res\n",
    "num = 1901\n",
    "res = pallindrom(num)\n",
    "if res == num:\n",
    "    print(\"pallindrome\")\n",
    "else:\n",
    "    print(\"not\")"
   ]
  },
  {
   "cell_type": "code",
   "execution_count": 19,
   "id": "f4544da0",
   "metadata": {},
   "outputs": [
    {
     "name": "stdout",
     "output_type": "stream",
     "text": [
      "1 \n",
      "2 3 \n",
      "4 5 6 \n",
      "7 8 9 11 \n",
      "22 33 44 55 66 \n",
      "77 88 99 101 111 121 \n",
      "131 141 151 161 171 181 191 \n"
     ]
    }
   ],
   "source": [
    "def reverse(num):\n",
    "    res = 0\n",
    "    while(num != 0):\n",
    "        rem = num%10\n",
    "        res = (res*10)+rem\n",
    "        num = num//10\n",
    "    return res\n",
    "\n",
    "rows = 7\n",
    "k=1\n",
    "for i in range(1,rows+1):\n",
    "    for j in range(i):\n",
    "        while(True):\n",
    "            if(reverse(k)==k):\n",
    "                print(k,end=\" \")\n",
    "                k+=1\n",
    "                break\n",
    "            else:\n",
    "                k+=1\n",
    "    print()\n",
    "                      \n",
    "        \n",
    "        \n",
    "    "
   ]
  },
  {
   "cell_type": "markdown",
   "id": "6ad87aeb",
   "metadata": {},
   "source": [
    "#  count digit"
   ]
  },
  {
   "cell_type": "code",
   "execution_count": 19,
   "id": "b27fa20a",
   "metadata": {},
   "outputs": [
    {
     "name": "stdout",
     "output_type": "stream",
     "text": [
      "8\n"
     ]
    }
   ],
   "source": [
    "def find_digit(num):\n",
    "    count = 0\n",
    "    while (num!=0):\n",
    "        num = num//10\n",
    "        count += 1\n",
    "    return count\n",
    "\n",
    "num = 16345686\n",
    "digit = find_digit(num)\n",
    "print(digit)"
   ]
  },
  {
   "cell_type": "markdown",
   "id": "e3213f32",
   "metadata": {},
   "source": [
    "# Armstrong Number "
   ]
  },
  {
   "cell_type": "code",
   "execution_count": 9,
   "id": "4e56d390",
   "metadata": {},
   "outputs": [
    {
     "name": "stdout",
     "output_type": "stream",
     "text": [
      "armstrong\n"
     ]
    }
   ],
   "source": [
    "def count_digit(num):\n",
    "    count = 0\n",
    "    while(num != 0):\n",
    "        num = num//10\n",
    "        count += 1\n",
    "    return count\n",
    "\n",
    "def armstrong(num):\n",
    "    digit = count_digit(num)\n",
    "    res = 0\n",
    "    while(num != 0):\n",
    "        rem = num%10\n",
    "        res = (rem**digit)+res\n",
    "        num = num//10\n",
    "    return res\n",
    "num = 153\n",
    "res = armstrong(num)\n",
    "if res == num:\n",
    "    print(\"armstrong\")\n",
    "else:\n",
    "    print(\"not\")"
   ]
  },
  {
   "cell_type": "code",
   "execution_count": 8,
   "id": "03f5314b",
   "metadata": {},
   "outputs": [
    {
     "name": "stdout",
     "output_type": "stream",
     "text": [
      "1\n",
      "2\n",
      "3\n",
      "4\n",
      "5\n",
      "6\n",
      "7\n",
      "8\n",
      "9\n",
      "153\n",
      "370\n",
      "371\n",
      "407\n",
      "1634\n",
      "8208\n",
      "9474\n"
     ]
    }
   ],
   "source": [
    "#armstrong number \n",
    "\n",
    "def count_digit(num):\n",
    "    count = 0\n",
    "    while num != 0:\n",
    "        num = num//10\n",
    "        count += 1\n",
    "    return count\n",
    "\n",
    "def armstong(num):\n",
    "    digit = count_digit(num)\n",
    "    res = 0\n",
    "    while num != 0:\n",
    "        rem = num % 10\n",
    "        res = rem**digit + res\n",
    "        num = num//10\n",
    "    return res\n",
    "for k in range(1,10001):\n",
    "    num = k\n",
    "    res = armstong(num)\n",
    "    if num == res:\n",
    "        print(num)\n"
   ]
  },
  {
   "cell_type": "markdown",
   "id": "9c4638da",
   "metadata": {},
   "source": [
    "#  Deolitte question"
   ]
  },
  {
   "cell_type": "code",
   "execution_count": 9,
   "id": "70624e1d",
   "metadata": {},
   "outputs": [
    {
     "name": "stdout",
     "output_type": "stream",
     "text": [
      "9999\n"
     ]
    }
   ],
   "source": [
    "def sumofdigit(num):\n",
    "    sum = 0\n",
    "    while(num!=0):\n",
    "        rem = num%10\n",
    "        sum = sum + rem\n",
    "        num = num//10\n",
    "    return sum\n",
    "\n",
    "num = 99\n",
    "num1 = num +1\n",
    "while(sumofdigit(num)*2!= sumofdigit(num1)):\n",
    "    num1 +=1\n",
    "print(num1)\n",
    "    "
   ]
  },
  {
   "cell_type": "markdown",
   "id": "3f1f6156",
   "metadata": {},
   "source": [
    "# Happy number or not"
   ]
  },
  {
   "cell_type": "code",
   "execution_count": 1,
   "id": "0ad47420",
   "metadata": {},
   "outputs": [
    {
     "name": "stdout",
     "output_type": "stream",
     "text": [
      "happy number\n"
     ]
    }
   ],
   "source": [
    "def digitsum(n):\n",
    "    sum =0\n",
    "    while  (n!=0):\n",
    "        sum = ((n%10)**2)+sum\n",
    "        n = n//10\n",
    "    return sum\n",
    "n =7\n",
    "while True:\n",
    "    n = digitsum(n)\n",
    "    if(n == 1): \n",
    "        print(\"happy number\")\n",
    "        break\n",
    "    elif(n == 4):\n",
    "        print(\"not happpy number\")\n",
    "        break\n",
    "    else:\n",
    "        pass"
   ]
  },
  {
   "cell_type": "code",
   "execution_count": 21,
   "id": "07631bce",
   "metadata": {},
   "outputs": [
    {
     "name": "stdout",
     "output_type": "stream",
     "text": [
      "its not happy\n"
     ]
    }
   ],
   "source": [
    "def find_sqr(num):\n",
    "    sum =0\n",
    "    while  (num!=0):\n",
    "        rem = num % 10\n",
    "        sum = sum+(rem*rem)\n",
    "        num = num//10\n",
    "    return sum\n",
    "num =6567\n",
    "res = num\n",
    "while(res != 1 and res != 4):\n",
    "    res = find_sqr(res)\n",
    "    \n",
    "if res == 1:\n",
    "    print(\"its happy\")\n",
    "else:\n",
    "    print(\"its not happy\")"
   ]
  },
  {
   "cell_type": "code",
   "execution_count": 8,
   "id": "f7cc7455",
   "metadata": {},
   "outputs": [
    {
     "name": "stdout",
     "output_type": "stream",
     "text": [
      "1\n",
      "7\n",
      "10\n",
      "13\n",
      "19\n",
      "23\n",
      "28\n",
      "31\n",
      "32\n",
      "44\n",
      "49\n",
      "68\n",
      "70\n",
      "79\n",
      "82\n",
      "86\n",
      "91\n",
      "94\n",
      "97\n",
      "100\n",
      "103\n",
      "109\n",
      "129\n",
      "130\n",
      "133\n",
      "139\n",
      "167\n",
      "176\n",
      "188\n",
      "190\n",
      "192\n",
      "193\n"
     ]
    }
   ],
   "source": [
    "\n",
    "def find_sqr(num):\n",
    "    sum =0\n",
    "    while  (num!=0):\n",
    "        rem = num % 10\n",
    "        sum = sum+(rem*rem)\n",
    "        num = num//10\n",
    "    return sum\n",
    "for k in range (1,200):\n",
    "    num = k\n",
    "    res = num\n",
    "    while(res != 1 and res != 4):\n",
    "        res = find_sqr(res)\n",
    "\n",
    "    if res == 1:\n",
    "        print(num)\n"
   ]
  },
  {
   "cell_type": "markdown",
   "id": "d77620c3",
   "metadata": {},
   "source": [
    "# HCF "
   ]
  },
  {
   "cell_type": "code",
   "execution_count": 55,
   "id": "b984728d",
   "metadata": {},
   "outputs": [
    {
     "name": "stdout",
     "output_type": "stream",
     "text": [
      "10\n"
     ]
    }
   ],
   "source": [
    "a = 10\n",
    "b = 20\n",
    "if a< b:\n",
    "    smaller = a\n",
    "else:\n",
    "    smaller = b \n",
    "    \n",
    "for i in range(1,smaller+1):\n",
    "    if(a%i == 0 and b%i == 0):\n",
    "        cf = i\n",
    "print(cf)"
   ]
  },
  {
   "cell_type": "markdown",
   "id": "89b4d992",
   "metadata": {},
   "source": [
    "# LCM"
   ]
  },
  {
   "cell_type": "code",
   "execution_count": 24,
   "id": "48b23477",
   "metadata": {},
   "outputs": [
    {
     "name": "stdout",
     "output_type": "stream",
     "text": [
      "20\n"
     ]
    }
   ],
   "source": [
    "a = 10\n",
    "b = 20\n",
    "if a>b:\n",
    "    greater = a\n",
    "else:\n",
    "    greater = b\n",
    "    \n",
    "for i in range(greater,(a*b)+1):\n",
    "    if(i%a == 0 and i%b == 0):\n",
    "        cf = i\n",
    "        break\n",
    "        \n",
    "print(cf)"
   ]
  },
  {
   "cell_type": "markdown",
   "id": "0872736a",
   "metadata": {},
   "source": [
    "# Factorial"
   ]
  },
  {
   "cell_type": "code",
   "execution_count": 11,
   "id": "b4852ced",
   "metadata": {},
   "outputs": [
    {
     "name": "stdout",
     "output_type": "stream",
     "text": [
      "enter a number5\n"
     ]
    },
    {
     "data": {
      "text/plain": [
       "120"
      ]
     },
     "execution_count": 11,
     "metadata": {},
     "output_type": "execute_result"
    }
   ],
   "source": [
    "def fact(n):\n",
    "    if (n == 0 or n == 1 ):\n",
    "        return 1\n",
    "    else:\n",
    "        return n*fact(n-1)\n",
    "n = int(input(\"enter a number\"))\n",
    "fact(n)"
   ]
  },
  {
   "cell_type": "code",
   "execution_count": 10,
   "id": "7173911e",
   "metadata": {},
   "outputs": [
    {
     "name": "stdout",
     "output_type": "stream",
     "text": [
      "120\n"
     ]
    }
   ],
   "source": [
    "def find_fact(num):\n",
    "    res = 1\n",
    "    for i in range(1,num+1):\n",
    "        res = res*i\n",
    "    return res\n",
    "num = 5\n",
    "res = find_fact(num)\n",
    "print(res)"
   ]
  },
  {
   "cell_type": "markdown",
   "id": "0e0a06b3",
   "metadata": {},
   "source": [
    "# Recursion"
   ]
  },
  {
   "cell_type": "code",
   "execution_count": 15,
   "id": "5402002e",
   "metadata": {},
   "outputs": [
    {
     "name": "stdout",
     "output_type": "stream",
     "text": [
      "54321\n"
     ]
    }
   ],
   "source": [
    "def reverse(num,res):\n",
    "    if num == 0:\n",
    "        return res\n",
    "    return reverse(num//10,(res*10)+(num%10))\n",
    "\n",
    "num = 12345\n",
    "res = reverse(num,0)\n",
    "print(res)"
   ]
  },
  {
   "cell_type": "code",
   "execution_count": 9,
   "id": "51d83261",
   "metadata": {},
   "outputs": [
    {
     "name": "stdout",
     "output_type": "stream",
     "text": [
      "enter a number to check the armstrong12345\n",
      "not\n"
     ]
    }
   ],
   "source": [
    "def find_digit(num,count):\n",
    "    if num == 0:\n",
    "        return count\n",
    "    return find_digit(num//10,count+1)\n",
    "\n",
    "def armstrong(num,res,digit):\n",
    "    if num == 0:\n",
    "        return res\n",
    "    return armstrong(num//10,(num%10)**digit+res,digit)\n",
    "\n",
    "num = int(input(\"enter a number to check the armstrong\"))\n",
    "digit = count_digit(num)\n",
    "res = armstrong(num,0,digit)\n",
    "if res == num:\n",
    "    print(\"armstrong\")\n",
    "else:\n",
    "    print(\"not\")"
   ]
  },
  {
   "cell_type": "code",
   "execution_count": 5,
   "id": "1d6b0e31",
   "metadata": {},
   "outputs": [
    {
     "name": "stdout",
     "output_type": "stream",
     "text": [
      "6\n"
     ]
    }
   ],
   "source": [
    "def find_digit(num,count):\n",
    "    if num == 0:\n",
    "        return count\n",
    "    return find_digit(num//10,count+1)\n",
    "\n",
    "\n",
    "num = 163456\n",
    "res = find_digit(num,0)\n",
    "print(res)\n"
   ]
  },
  {
   "cell_type": "code",
   "execution_count": 12,
   "id": "77b59806",
   "metadata": {},
   "outputs": [
    {
     "name": "stdout",
     "output_type": "stream",
     "text": [
      "4\n"
     ]
    }
   ],
   "source": [
    "def count_digit(num):\n",
    "    if (num == 0):\n",
    "        return 0\n",
    "    return count_digit(num//10)+1\n",
    "num = 1234\n",
    "res = count_digit(num)\n",
    "print(res)"
   ]
  },
  {
   "cell_type": "code",
   "execution_count": 5,
   "id": "7e8e773e",
   "metadata": {},
   "outputs": [
    {
     "name": "stdout",
     "output_type": "stream",
     "text": [
      "enter a size of a element5\n",
      "enter the elemnt1\n",
      "enter the elemnt2\n",
      "enter the elemnt3\n",
      "enter the elemnt4\n",
      "enter the elemnt5\n",
      "[1, 2, 3, 4, 5]\n"
     ]
    }
   ],
   "source": [
    "n = int(input(\"enter a size of a element\"))\n",
    "l = []\n",
    "for i in range(n):\n",
    "    data = int(input(\"enter the elemnt\"))\n",
    "    l.append(data)\n",
    "print(l)"
   ]
  },
  {
   "cell_type": "code",
   "execution_count": 6,
   "id": "c1e7da39",
   "metadata": {},
   "outputs": [
    {
     "name": "stdout",
     "output_type": "stream",
     "text": [
      "12\n",
      "56\n",
      "92\n"
     ]
    }
   ],
   "source": [
    "l =[12,23,45,67,56,92]\n",
    "for i in range(0,len(l)):\n",
    "    data = l[i]\n",
    "    if  data%2 == 0:\n",
    "        print(data)"
   ]
  },
  {
   "cell_type": "markdown",
   "id": "e7430e68",
   "metadata": {},
   "source": [
    "l =[12,23,45,67,56,92]\n",
    "for i in range(0,len(l)):\n",
    "    data = l[i]\n",
    "    if  i%2 == 0:\n",
    "        print(data)"
   ]
  },
  {
   "cell_type": "code",
   "execution_count": 7,
   "id": "8b96bb38",
   "metadata": {},
   "outputs": [
    {
     "name": "stdout",
     "output_type": "stream",
     "text": [
      "12\n",
      "45\n",
      "56\n"
     ]
    }
   ],
   "source": [
    "l =[12,23,45,67,56,92]\n",
    "for i in range(0,len(l)):\n",
    "    data = l[i]\n",
    "    if  i%2 == 0:\n",
    "        print(data)"
   ]
  },
  {
   "cell_type": "code",
   "execution_count": 9,
   "id": "d2ddfdf4",
   "metadata": {},
   "outputs": [
    {
     "name": "stdout",
     "output_type": "stream",
     "text": [
      "49.166666666666664\n"
     ]
    }
   ],
   "source": [
    "l =[12,23,45,67,56,92]\n",
    "sum = 0\n",
    "for i in range(0,\n",
    "               len(l)):\n",
    "    digit = l[i]\n",
    "    sum = digit+sum\n",
    "    \n",
    "avg = sum/len(l)\n",
    "print(avg)\n",
    "\n",
    "+"
   ]
  },
  {
   "cell_type": "code",
   "execution_count": 11,
   "id": "0be4ac1c",
   "metadata": {},
   "outputs": [
    {
     "name": "stdout",
     "output_type": "stream",
     "text": [
      "maximum 8\n"
     ]
    }
   ],
   "source": [
    "def find_max(l):\n",
    "    max = l[0]\n",
    "    \n",
    "    for i in range (0,len(l)):\n",
    "        data = l[i]\n",
    "        if data>max:\n",
    "            max = data\n",
    "    print(\"maximum\",max)\n",
    "    \n",
    "    \n",
    "l = [1,2,3,4,5,6,7,8]\n",
    "find_max(l)\n"
   ]
  },
  {
   "cell_type": "code",
   "execution_count": 2,
   "id": "ec3daaaf",
   "metadata": {},
   "outputs": [
    {
     "name": "stdout",
     "output_type": "stream",
     "text": [
      "8\n"
     ]
    }
   ],
   "source": [
    "l = [1,2,3,4,5,6,7,8]\n",
    "max = l[0]\n",
    "\n",
    "for i in l:\n",
    "    if i > max:\n",
    "        max = i\n",
    "        \n",
    "print(max)"
   ]
  },
  {
   "cell_type": "code",
   "execution_count": 16,
   "id": "a32bfbd1",
   "metadata": {},
   "outputs": [
    {
     "name": "stdout",
     "output_type": "stream",
     "text": [
      "55\n"
     ]
    }
   ],
   "source": [
    "def second(l):\n",
    "    if (l[0]>l[1]):\n",
    "        max1 = l[0]\n",
    "        max2 = l[1]\n",
    "        \n",
    "    else:\n",
    "        max1 = l[1]\n",
    "        max2 = l[0]\n",
    "        \n",
    "    for i in range(2,len(l)):\n",
    "        digit = l[i]\n",
    "        if digit > max1:\n",
    "            max2 = max1\n",
    "            max1 = digit\n",
    "        elif(digit>max2):\n",
    "            max2 = digit\n",
    "            \n",
    "    return max2\n",
    "\n",
    "l = [1,2,3,4,55,6,7,60]\n",
    "res = second(l)\n",
    "print(res)\n",
    "        \n",
    "    \n",
    "        "
   ]
  },
  {
   "cell_type": "code",
   "execution_count": 4,
   "id": "8f5bf9c6",
   "metadata": {},
   "outputs": [
    {
     "name": "stdout",
     "output_type": "stream",
     "text": [
      "1\n"
     ]
    }
   ],
   "source": [
    "def small(l):\n",
    "    max = l[0]\n",
    "    \n",
    "    for i in range(0.len(l)):\n",
    "        digit = l[i]\n",
    "        if digit < max:\n",
    "            max = digit\n",
    "            \n",
    "    return max\n",
    "\n",
    "l = [1,2,3,4,5,6,7,8]\n",
    "small9\n"
   ]
  },
  {
   "cell_type": "markdown",
   "id": "d6993521",
   "metadata": {},
   "source": [
    "# Linear Search\n"
   ]
  },
  {
   "cell_type": "code",
   "execution_count": 8,
   "id": "c8922ec9",
   "metadata": {},
   "outputs": [
    {
     "name": "stdout",
     "output_type": "stream",
     "text": [
      "2\n"
     ]
    }
   ],
   "source": [
    "def lsearch(list,key):\n",
    "    for i in range(0,len(list)):\n",
    "        if list[i] == key:\n",
    "            return i\n",
    "    return -1\n",
    "\n",
    "list = [20,80,7,24,30,12,15]\n",
    "key = 7\n",
    "ind = lsearch(list,key)\n",
    "print(ind)"
   ]
  },
  {
   "cell_type": "code",
   "execution_count": 4,
   "id": "d1559659",
   "metadata": {},
   "outputs": [
    {
     "name": "stdout",
     "output_type": "stream",
     "text": [
      "-1\n"
     ]
    }
   ],
   "source": [
    "def bsearch(list,key):\n",
    "    low = 0\n",
    "    high = len(list)-1\n",
    "    \n",
    "    while(low<=high):\n",
    "        mid = (low+high)//2\n",
    "        if(list[mid] == key):\n",
    "            return mid\n",
    "        \n",
    "        elif (key>list[mid]):\n",
    "            low = mid + 1\n",
    "            \n",
    "        else:\n",
    "            high = mid-1\n",
    "    \n",
    "    return -1\n",
    "\n",
    "list = [11,20,30,40,50,60,77,49,22]\n",
    "key = 22\n",
    "ind = bsearch(list,key)\n",
    "print(ind)"
   ]
  },
  {
   "cell_type": "code",
   "execution_count": 3,
   "id": "50250bad",
   "metadata": {},
   "outputs": [
    {
     "name": "stdout",
     "output_type": "stream",
     "text": [
      "[12, 22, 23, 33, 34, 44, 45, 55, 56, 67, 77, 88, 89]\n"
     ]
    }
   ],
   "source": [
    "l1 = [12,23,34,45,56,67,77,88,89]\n",
    "l2 = [22,33,44,55]\n",
    "res =[]\n",
    "i =0\n",
    "j =0\n",
    "while(j<len(l2)and i <len(l1)):\n",
    "    if(l1[i]<l2[j]):\n",
    "        res.append(l1[i])\n",
    "        i += 1\n",
    "        \n",
    "    else:\n",
    "        res.append(l2[j])\n",
    "        j += 1\n",
    "        \n",
    "while(i<len(l1)):\n",
    "    res.append(l1[i])\n",
    "    i += 1\n",
    "        \n",
    "while(j<len(l2)):\n",
    "    res.append(l2[j])\n",
    "    j += 1\n",
    "    \n",
    "print(res)\n",
    "    "
   ]
  },
  {
   "cell_type": "code",
   "execution_count": 9,
   "id": "368e8aaa",
   "metadata": {},
   "outputs": [
    {
     "name": "stdout",
     "output_type": "stream",
     "text": [
      "[1, 2, 3, 4, 5, 60, 65, 70, 80, 90]\n"
     ]
    }
   ],
   "source": [
    "l1 = [90,80,70,60]\n",
    "l2 = [95,65,5,4,3,2,1]\n",
    "res =[]\n",
    "i =len(l1)-1\n",
    "j =len(l2)-1\n",
    "while(j>=0 and i >=0):\n",
    "    if(l1[i]<l2[j]):\n",
    "        res.append(l1[i])\n",
    "        i -= 1\n",
    "        \n",
    "    else:\n",
    "        res.append(l2[j])\n",
    "        j -= 1\n",
    "        \n",
    "while(i>=0):\n",
    "    res.append(l1[i])\n",
    "    i -= 1\n",
    "        \n",
    "while(j>0):\n",
    "    res.append(l2[j])\n",
    "    j -= 1\n",
    "    \n",
    "print(res)\n",
    "    "
   ]
  },
  {
   "cell_type": "code",
   "execution_count": 3,
   "id": "b4522b88",
   "metadata": {},
   "outputs": [
    {
     "name": "stdout",
     "output_type": "stream",
     "text": [
      "[8, 18, 69, 90, 120, 143, 420, 6106]\n"
     ]
    }
   ],
   "source": [
    "list = [8,143,420,6106,90,69,120,18]\n",
    "for k in range(0,len(list)-1):\n",
    "    for i in range(0,len(list)-1):\n",
    "        if(list[i]>list[i+1]):\n",
    "            list[i],list[i+1] = list[i+1],list[i]\n",
    "print(list)"
   ]
  },
  {
   "cell_type": "code",
   "execution_count": 4,
   "id": "a7f02d53",
   "metadata": {},
   "outputs": [
    {
     "name": "stdout",
     "output_type": "stream",
     "text": [
      "[6106, 420, 143, 120, 90, 69, 18, 8]\n"
     ]
    }
   ],
   "source": [
    "list = [8,143,420,6106,90,69,120,18]\n",
    "for k in range(0,len(list)-1):\n",
    "    for i in range(0,len(list)-1):\n",
    "        if(list[i]<list[i+1]):\n",
    "            list[i],list[i+1] = list[i+1],list[i]\n",
    "print(list)"
   ]
  },
  {
   "cell_type": "markdown",
   "id": "ab032f25",
   "metadata": {},
   "source": [
    "#  Merg sort \n"
   ]
  },
  {
   "cell_type": "code",
   "execution_count": 5,
   "id": "e70385cf",
   "metadata": {},
   "outputs": [
    {
     "name": "stdout",
     "output_type": "stream",
     "text": [
      "[7, 8, 16, 17, 18, 20, 28, 45]\n"
     ]
    }
   ],
   "source": [
    "def merg_twolist(l1,l2):\n",
    "    res = []\n",
    "    i =0\n",
    "    j =0\n",
    "    while(j<len(l2)and i <len(l1)):\n",
    "        if(l1[i]<l2[j]):\n",
    "            res.append(l1[i])\n",
    "            i += 1\n",
    "        \n",
    "        else:\n",
    "            res.append(l2[j])\n",
    "            j += 1\n",
    "        \n",
    "    while(i<len(l1)):\n",
    "        res.append(l1[i])\n",
    "        i += 1\n",
    "        \n",
    "    while(j<len(l2)):\n",
    "        res.append(l2[j])\n",
    "        j += 1\n",
    "    \n",
    "    return res\n",
    "    \n",
    "def divide(l):\n",
    "    if(len(l)==1):\n",
    "        return l\n",
    "    mid = len(l)//2\n",
    "    left = l[0:mid]\n",
    "    right = l[mid: ]\n",
    "    left = divide(left)\n",
    "    right = divide(right)\n",
    "    \n",
    "    return merg_twolist(left,right)\n",
    "\n",
    "l = [16,8,20,45,7,18,28,17]\n",
    "res = divide(l)\n",
    "print(res)\n",
    "    \n",
    "    "
   ]
  },
  {
   "cell_type": "markdown",
   "id": "27a1ec53",
   "metadata": {},
   "source": [
    "#  Max sum in subarray"
   ]
  },
  {
   "cell_type": "code",
   "execution_count": 1,
   "id": "748d70e0",
   "metadata": {},
   "outputs": [
    {
     "name": "stdout",
     "output_type": "stream",
     "text": [
      "9\n"
     ]
    }
   ],
   "source": [
    "arr=[8,-6,3,4,-1,6,3,-4]\n",
    "k=3\n",
    "sum=0\n",
    "for i in range(0,k):\n",
    "    sum+=arr[i]\n",
    "max_sum=sum\n",
    "\n",
    "for i in range(1,len(arr)-k+1):\n",
    "    sum=0\n",
    "    for j in range(i,k+i):\n",
    "        sum+=arr[j]\n",
    "    if(sum>max_sum):\n",
    "        max_sum=sum\n",
    "print(max_sum)"
   ]
  },
  {
   "cell_type": "markdown",
   "id": "80c19ede",
   "metadata": {},
   "source": [
    "# Remove duplicate elements¶"
   ]
  },
  {
   "cell_type": "code",
   "execution_count": 2,
   "id": "bf361af1",
   "metadata": {},
   "outputs": [
    {
     "name": "stdout",
     "output_type": "stream",
     "text": [
      "[2, 3, 45, 56, 7]\n"
     ]
    }
   ],
   "source": [
    "arr=[2,3,45,45,3,2,56,7]\n",
    "def unique(arr):\n",
    "    ans=[]\n",
    "    for num in arr:\n",
    "        if num not in ans:\n",
    "            ans.append(num)\n",
    "    return ans\n",
    "print(unique(arr))"
   ]
  },
  {
   "cell_type": "markdown",
   "id": "18e2cae3",
   "metadata": {},
   "source": [
    "#  Count occurance of a number"
   ]
  },
  {
   "cell_type": "code",
   "execution_count": 1,
   "id": "bde84e70",
   "metadata": {},
   "outputs": [
    {
     "name": "stdout",
     "output_type": "stream",
     "text": [
      "12  3\n",
      "23  1\n",
      "24  1\n",
      "90  1\n",
      "60  2\n",
      "30  1\n",
      "180  1\n"
     ]
    }
   ],
   "source": [
    "arr=[12,23,12,24,90,60,30,12,60,180]\n",
    "dict={}\n",
    "for i in arr:\n",
    "    if i in dict:\n",
    "        dict[i]=dict[i]+1\n",
    "    else:\n",
    "        dict[i]=1\n",
    "for i in dict:\n",
    "    print(i,\"\",dict[i])"
   ]
  },
  {
   "cell_type": "code",
   "execution_count": 1,
   "id": "c48618f3",
   "metadata": {},
   "outputs": [
    {
     "ename": "KeyboardInterrupt",
     "evalue": "Interrupted by user",
     "output_type": "error",
     "traceback": [
      "\u001b[1;31m---------------------------------------------------------------------------\u001b[0m",
      "\u001b[1;31mKeyboardInterrupt\u001b[0m                         Traceback (most recent call last)",
      "Cell \u001b[1;32mIn[1], line 1\u001b[0m\n\u001b[1;32m----> 1\u001b[0m n \u001b[38;5;241m=\u001b[39m \u001b[38;5;28mint\u001b[39m(\u001b[38;5;28;43minput\u001b[39;49m\u001b[43m(\u001b[49m\u001b[38;5;124;43m\"\u001b[39;49m\u001b[38;5;124;43menter the number \u001b[39;49m\u001b[38;5;124;43m\"\u001b[39;49m\u001b[43m)\u001b[49m)\n\u001b[0;32m      4\u001b[0m \u001b[38;5;28;01mfor\u001b[39;00m i \u001b[38;5;129;01min\u001b[39;00m \u001b[38;5;28mrange\u001b[39m(\u001b[38;5;241m1\u001b[39m,n\u001b[38;5;241m+\u001b[39m\u001b[38;5;241m1\u001b[39m):\n\u001b[0;32m      5\u001b[0m     \u001b[38;5;28;01mif\u001b[39;00m i\u001b[38;5;241m%\u001b[39m\u001b[38;5;241m2\u001b[39m \u001b[38;5;241m!=\u001b[39m \u001b[38;5;241m0\u001b[39m:\n",
      "File \u001b[1;32m~\\anaconda3\\lib\\site-packages\\ipykernel\\kernelbase.py:1075\u001b[0m, in \u001b[0;36mKernel.raw_input\u001b[1;34m(self, prompt)\u001b[0m\n\u001b[0;32m   1071\u001b[0m \u001b[38;5;28;01mif\u001b[39;00m \u001b[38;5;129;01mnot\u001b[39;00m \u001b[38;5;28mself\u001b[39m\u001b[38;5;241m.\u001b[39m_allow_stdin:\n\u001b[0;32m   1072\u001b[0m     \u001b[38;5;28;01mraise\u001b[39;00m StdinNotImplementedError(\n\u001b[0;32m   1073\u001b[0m         \u001b[38;5;124m\"\u001b[39m\u001b[38;5;124mraw_input was called, but this frontend does not support input requests.\u001b[39m\u001b[38;5;124m\"\u001b[39m\n\u001b[0;32m   1074\u001b[0m     )\n\u001b[1;32m-> 1075\u001b[0m \u001b[38;5;28;01mreturn\u001b[39;00m \u001b[38;5;28;43mself\u001b[39;49m\u001b[38;5;241;43m.\u001b[39;49m\u001b[43m_input_request\u001b[49m\u001b[43m(\u001b[49m\n\u001b[0;32m   1076\u001b[0m \u001b[43m    \u001b[49m\u001b[38;5;28;43mstr\u001b[39;49m\u001b[43m(\u001b[49m\u001b[43mprompt\u001b[49m\u001b[43m)\u001b[49m\u001b[43m,\u001b[49m\n\u001b[0;32m   1077\u001b[0m \u001b[43m    \u001b[49m\u001b[38;5;28;43mself\u001b[39;49m\u001b[38;5;241;43m.\u001b[39;49m\u001b[43m_parent_ident\u001b[49m\u001b[43m[\u001b[49m\u001b[38;5;124;43m\"\u001b[39;49m\u001b[38;5;124;43mshell\u001b[39;49m\u001b[38;5;124;43m\"\u001b[39;49m\u001b[43m]\u001b[49m\u001b[43m,\u001b[49m\n\u001b[0;32m   1078\u001b[0m \u001b[43m    \u001b[49m\u001b[38;5;28;43mself\u001b[39;49m\u001b[38;5;241;43m.\u001b[39;49m\u001b[43mget_parent\u001b[49m\u001b[43m(\u001b[49m\u001b[38;5;124;43m\"\u001b[39;49m\u001b[38;5;124;43mshell\u001b[39;49m\u001b[38;5;124;43m\"\u001b[39;49m\u001b[43m)\u001b[49m\u001b[43m,\u001b[49m\n\u001b[0;32m   1079\u001b[0m \u001b[43m    \u001b[49m\u001b[43mpassword\u001b[49m\u001b[38;5;241;43m=\u001b[39;49m\u001b[38;5;28;43;01mFalse\u001b[39;49;00m\u001b[43m,\u001b[49m\n\u001b[0;32m   1080\u001b[0m \u001b[43m\u001b[49m\u001b[43m)\u001b[49m\n",
      "File \u001b[1;32m~\\anaconda3\\lib\\site-packages\\ipykernel\\kernelbase.py:1120\u001b[0m, in \u001b[0;36mKernel._input_request\u001b[1;34m(self, prompt, ident, parent, password)\u001b[0m\n\u001b[0;32m   1117\u001b[0m             \u001b[38;5;28;01mbreak\u001b[39;00m\n\u001b[0;32m   1118\u001b[0m \u001b[38;5;28;01mexcept\u001b[39;00m \u001b[38;5;167;01mKeyboardInterrupt\u001b[39;00m:\n\u001b[0;32m   1119\u001b[0m     \u001b[38;5;66;03m# re-raise KeyboardInterrupt, to truncate traceback\u001b[39;00m\n\u001b[1;32m-> 1120\u001b[0m     \u001b[38;5;28;01mraise\u001b[39;00m \u001b[38;5;167;01mKeyboardInterrupt\u001b[39;00m(\u001b[38;5;124m\"\u001b[39m\u001b[38;5;124mInterrupted by user\u001b[39m\u001b[38;5;124m\"\u001b[39m) \u001b[38;5;28;01mfrom\u001b[39;00m \u001b[38;5;28;01mNone\u001b[39;00m\n\u001b[0;32m   1121\u001b[0m \u001b[38;5;28;01mexcept\u001b[39;00m \u001b[38;5;167;01mException\u001b[39;00m:\n\u001b[0;32m   1122\u001b[0m     \u001b[38;5;28mself\u001b[39m\u001b[38;5;241m.\u001b[39mlog\u001b[38;5;241m.\u001b[39mwarning(\u001b[38;5;124m\"\u001b[39m\u001b[38;5;124mInvalid Message:\u001b[39m\u001b[38;5;124m\"\u001b[39m, exc_info\u001b[38;5;241m=\u001b[39m\u001b[38;5;28;01mTrue\u001b[39;00m)\n",
      "\u001b[1;31mKeyboardInterrupt\u001b[0m: Interrupted by user"
     ]
    }
   ],
   "source": [
    "n = int(input(\"enter the number \"))\n",
    "\n",
    "\n",
    "for i in range(1,n+1):\n",
    "    if i%2 != 0:\n",
    "        print(i,end = \" \")\n",
    "    else:\n",
    "        print(i)\n",
    "        \n",
    "\n",
    "    "
   ]
  },
  {
   "cell_type": "code",
   "execution_count": null,
   "id": "98aeb3a3",
   "metadata": {},
   "outputs": [],
   "source": [
    "def second(l):\n",
    "    if (l[0]>l[1]):\n",
    "        max1 = l[0]\n",
    "        max2 = l[1]\n",
    "        \n",
    "    else:\n",
    "        max1 = l[1]\n",
    "        max2 = l[0]\n",
    "        \n",
    "    for i in range(2,len(l)):\n",
    "        digit = l[i]\n",
    "        if digit > max1:\n",
    "            max2 = max1\n",
    "            max1 = digit\n",
    "        elif(digit>max2):\n",
    "            max2 = digit\n",
    "            \n",
    "    return max2\n",
    "\n",
    "l = [1,2,3,4,55,6,7,60]\n",
    "res = second(l)\n",
    "print(res)\n",
    "        \n",
    "    \n",
    "        "
   ]
  },
  {
   "cell_type": "code",
   "execution_count": 2,
   "id": "dc0827b8",
   "metadata": {},
   "outputs": [
    {
     "ename": "TypeError",
     "evalue": "can only concatenate list (not \"int\") to list",
     "output_type": "error",
     "traceback": [
      "\u001b[1;31m---------------------------------------------------------------------------\u001b[0m",
      "\u001b[1;31mTypeError\u001b[0m                                 Traceback (most recent call last)",
      "Cell \u001b[1;32mIn[2], line 2\u001b[0m\n\u001b[0;32m      1\u001b[0m s \u001b[38;5;241m=\u001b[39m [\u001b[38;5;241m3\u001b[39m,\u001b[38;5;241m4\u001b[39m,\u001b[38;5;241m1\u001b[39m,\u001b[38;5;241m7\u001b[39m,\u001b[38;5;241m9\u001b[39m]\n\u001b[1;32m----> 2\u001b[0m \u001b[38;5;28;01mfor\u001b[39;00m i \u001b[38;5;129;01min\u001b[39;00m \u001b[38;5;28mrange\u001b[39m(\u001b[38;5;241m1\u001b[39m,\u001b[43ms\u001b[49m\u001b[38;5;241;43m+\u001b[39;49m\u001b[38;5;241;43m1\u001b[39;49m):\n\u001b[0;32m      3\u001b[0m     \u001b[38;5;28;01mif\u001b[39;00m i\u001b[38;5;241m%\u001b[39m\u001b[38;5;241m2\u001b[39m \u001b[38;5;241m!=\u001b[39m \u001b[38;5;241m0\u001b[39m:\n\u001b[0;32m      4\u001b[0m         \u001b[38;5;28mprint\u001b[39m(i,end \u001b[38;5;241m=\u001b[39m \u001b[38;5;124m\"\u001b[39m\u001b[38;5;124m \u001b[39m\u001b[38;5;124m\"\u001b[39m)\n",
      "\u001b[1;31mTypeError\u001b[0m: can only concatenate list (not \"int\") to list"
     ]
    }
   ],
   "source": [
    "s = [3,4,1,7,9]\n",
    "for i in range(1,s+1):\n",
    "    if i%2 != 0:\n",
    "        print(i,end = \" \")\n",
    "    else:\n",
    "        print(i)"
   ]
  },
  {
   "cell_type": "code",
   "execution_count": 12,
   "id": "51ad07f4",
   "metadata": {},
   "outputs": [
    {
     "name": "stdout",
     "output_type": "stream",
     "text": [
      "enter the number 10\n"
     ]
    },
    {
     "ename": "NameError",
     "evalue": "name 'insert' is not defined",
     "output_type": "error",
     "traceback": [
      "\u001b[1;31m---------------------------------------------------------------------------\u001b[0m",
      "\u001b[1;31mNameError\u001b[0m                                 Traceback (most recent call last)",
      "Cell \u001b[1;32mIn[12], line 7\u001b[0m\n\u001b[0;32m      5\u001b[0m \u001b[38;5;28;01mfor\u001b[39;00m i \u001b[38;5;129;01min\u001b[39;00m \u001b[38;5;28mrange\u001b[39m(\u001b[38;5;241m1\u001b[39m,n\u001b[38;5;241m+\u001b[39m\u001b[38;5;241m1\u001b[39m):\n\u001b[0;32m      6\u001b[0m     \u001b[38;5;28;01mif\u001b[39;00m i\u001b[38;5;241m%\u001b[39m\u001b[38;5;241m2\u001b[39m \u001b[38;5;241m!=\u001b[39m \u001b[38;5;241m0\u001b[39m:\n\u001b[1;32m----> 7\u001b[0m         even,\u001b[43minsert\u001b[49m[i]\n\u001b[0;32m      9\u001b[0m     \u001b[38;5;28;01melse\u001b[39;00m:\n\u001b[0;32m     10\u001b[0m         odd\u001b[38;5;241m.\u001b[39minsert[i]\n",
      "\u001b[1;31mNameError\u001b[0m: name 'insert' is not defined"
     ]
    }
   ],
   "source": [
    "n = int(input(\"enter the number \"))\n",
    "even = 0\n",
    "odd = 0\n",
    "\n",
    "for i in range(1,n+1):\n",
    "    if i%2 != 0:\n",
    "        even,insert[i]\n",
    "        \n",
    "    else:\n",
    "        odd.insert[i]\n",
    "        \n",
    "print(even)\n",
    "print(odd)\n",
    "        \n",
    "\n",
    "    "
   ]
  },
  {
   "cell_type": "code",
   "execution_count": 1,
   "id": "07c621a5",
   "metadata": {},
   "outputs": [
    {
     "ename": "TypeError",
     "evalue": "not all arguments converted during string formatting",
     "output_type": "error",
     "traceback": [
      "\u001b[1;31m---------------------------------------------------------------------------\u001b[0m",
      "\u001b[1;31mTypeError\u001b[0m                                 Traceback (most recent call last)",
      "Cell \u001b[1;32mIn[1], line 3\u001b[0m\n\u001b[0;32m      1\u001b[0m s \u001b[38;5;241m=\u001b[39m \u001b[38;5;124m\"\u001b[39m\u001b[38;5;124m3,4,1,7,9\u001b[39m\u001b[38;5;124m\"\u001b[39m\n\u001b[0;32m      2\u001b[0m \u001b[38;5;28;01mfor\u001b[39;00m i \u001b[38;5;129;01min\u001b[39;00m s:\n\u001b[1;32m----> 3\u001b[0m     \u001b[38;5;28;01mif\u001b[39;00m \u001b[43mi\u001b[49m\u001b[38;5;241;43m%\u001b[39;49m\u001b[38;5;241;43m2\u001b[39;49m \u001b[38;5;241m==\u001b[39m \u001b[38;5;241m0\u001b[39m:\n\u001b[0;32m      4\u001b[0m         \u001b[38;5;28mprint\u001b[39m(s[i],end \u001b[38;5;241m=\u001b[39m \u001b[38;5;124m\"\u001b[39m\u001b[38;5;124m \u001b[39m\u001b[38;5;124m\"\u001b[39m)\n\u001b[0;32m      5\u001b[0m     \u001b[38;5;28;01melse\u001b[39;00m:\n",
      "\u001b[1;31mTypeError\u001b[0m: not all arguments converted during string formatting"
     ]
    }
   ],
   "source": []
  },
  {
   "cell_type": "code",
   "execution_count": 21,
   "id": "a879a429",
   "metadata": {},
   "outputs": [
    {
     "ename": "TypeError",
     "evalue": "'builtin_function_or_method' object is not subscriptable",
     "output_type": "error",
     "traceback": [
      "\u001b[1;31m---------------------------------------------------------------------------\u001b[0m",
      "\u001b[1;31mTypeError\u001b[0m                                 Traceback (most recent call last)",
      "Cell \u001b[1;32mIn[21], line 8\u001b[0m\n\u001b[0;32m      6\u001b[0m         even\u001b[38;5;241m.\u001b[39minsert[i]\n\u001b[0;32m      7\u001b[0m     \u001b[38;5;28;01melse\u001b[39;00m:\n\u001b[1;32m----> 8\u001b[0m         \u001b[43modd\u001b[49m\u001b[38;5;241;43m.\u001b[39;49m\u001b[43minsert\u001b[49m\u001b[43m[\u001b[49m\u001b[43mi\u001b[49m\u001b[43m]\u001b[49m\n\u001b[0;32m     10\u001b[0m \u001b[38;5;28mprint\u001b[39m(even)\n\u001b[0;32m     11\u001b[0m \u001b[38;5;28mprint\u001b[39m(odd)\n",
      "\u001b[1;31mTypeError\u001b[0m: 'builtin_function_or_method' object is not subscriptable"
     ]
    }
   ],
   "source": [
    "s = [3,4,1,7,9]\n",
    "even = []\n",
    "odd = []\n",
    "for i in s:\n",
    "    if i%2 == 0:\n",
    "        even.insert[i]\n",
    "    else:\n",
    "        odd.insert[i]\n",
    "        \n",
    "print(even)\n",
    "print(odd)\n",
    "       \n"
   ]
  },
  {
   "cell_type": "code",
   "execution_count": 13,
   "id": "d31aa95f",
   "metadata": {},
   "outputs": [
    {
     "ename": "KeyError",
     "evalue": "4",
     "output_type": "error",
     "traceback": [
      "\u001b[1;31m---------------------------------------------------------------------------\u001b[0m",
      "\u001b[1;31mKeyError\u001b[0m                                  Traceback (most recent call last)",
      "Cell \u001b[1;32mIn[13], line 5\u001b[0m\n\u001b[0;32m      3\u001b[0m \u001b[38;5;28;01mfor\u001b[39;00m i \u001b[38;5;129;01min\u001b[39;00m arr:\n\u001b[0;32m      4\u001b[0m     \u001b[38;5;28;01mif\u001b[39;00m i\u001b[38;5;241m%\u001b[39m\u001b[38;5;241m2\u001b[39m \u001b[38;5;241m==\u001b[39m \u001b[38;5;241m0\u001b[39m :\n\u001b[1;32m----> 5\u001b[0m         \u001b[38;5;28mdict\u001b[39m[i]\u001b[38;5;241m=\u001b[39m\u001b[38;5;28;43mdict\u001b[39;49m\u001b[43m[\u001b[49m\u001b[43mi\u001b[49m\u001b[43m]\u001b[49m\u001b[38;5;241m+\u001b[39m\u001b[38;5;241m1\u001b[39m\n\u001b[0;32m      6\u001b[0m     \u001b[38;5;28;01melse\u001b[39;00m:\n\u001b[0;32m      7\u001b[0m         \u001b[38;5;28mdict\u001b[39m[i]\u001b[38;5;241m=\u001b[39m\u001b[38;5;241m1\u001b[39m\n",
      "\u001b[1;31mKeyError\u001b[0m: 4"
     ]
    }
   ],
   "source": []
  },
  {
   "cell_type": "code",
   "execution_count": 19,
   "id": "659e4144",
   "metadata": {},
   "outputs": [
    {
     "name": "stdout",
     "output_type": "stream",
     "text": [
      "[3, 1, 9]\n",
      "9\n"
     ]
    }
   ],
   "source": [
    "l =[3,4,1,7,9]\n",
    "even = []\n",
    "odd = []\n",
    "for i in range(0,len(l)):\n",
    "   \n",
    "    if  i%2 == 0:\n",
    "        even.append(l[i])\n",
    "        \n",
    "    else:\n",
    "        odd.append(l[i])\n",
    "print(even)\n",
    "print(data)"
   ]
  },
  {
   "cell_type": "code",
   "execution_count": 20,
   "id": "14ae8ef0",
   "metadata": {},
   "outputs": [
    {
     "name": "stdout",
     "output_type": "stream",
     "text": [
      "None\n"
     ]
    }
   ],
   "source": [
    "arr=[3,4,1,7,9]\n",
    "def evenodd(arr):\n",
    "    even=[]\n",
    "    odd =[]\n",
    "    for num in arr:\n",
    "        if num%2 ==0:\n",
    "            even.append(num)\n",
    "        else:\n",
    "            odd.append(num)\n",
    "            \n",
    "print(evenodd(arr))"
   ]
  },
  {
   "cell_type": "code",
   "execution_count": 13,
   "id": "22b93fb1",
   "metadata": {},
   "outputs": [
    {
     "name": "stdout",
     "output_type": "stream",
     "text": [
      "sum 7\n"
     ]
    }
   ],
   "source": [
    "s = [3, 4, 1, 7, 9]\n",
    "even = []\n",
    "odd = []\n",
    "\n",
    "for i in range (len(s)):\n",
    "    if i % 2 == 0:\n",
    "        even.append(s[i])\n",
    "    else:\n",
    "        odd.append(s[i])\n",
    "\n",
    "\n",
    "evenn=sorted(even)\n",
    "oddd = sorted(odd)\n",
    "print(\"sum\",evenn[-2]+oddd[-2])\n",
    "\n"
   ]
  },
  {
   "cell_type": "code",
   "execution_count": 19,
   "id": "88d199ce",
   "metadata": {},
   "outputs": [
    {
     "name": "stdout",
     "output_type": "stream",
     "text": [
      "[3, 1, 9]\n",
      "[4, 7]\n",
      "7\n"
     ]
    }
   ],
   "source": [
    "s = [3, 4, 1, 7, 9]\n",
    "even = s[::2]\n",
    "odd = s[1::2]\n",
    "print(even)\n",
    "print(odd)\n",
    "a,b = sorted(even),sorted(odd)\n",
    "print(a[-2]+b[-2])\n"
   ]
  },
  {
   "cell_type": "code",
   "execution_count": null,
   "id": "fbc64a7d",
   "metadata": {},
   "outputs": [],
   "source": []
  }
 ],
 "metadata": {
  "kernelspec": {
   "display_name": "Python 3 (ipykernel)",
   "language": "python",
   "name": "python3"
  },
  "language_info": {
   "codemirror_mode": {
    "name": "ipython",
    "version": 3
   },
   "file_extension": ".py",
   "mimetype": "text/x-python",
   "name": "python",
   "nbconvert_exporter": "python",
   "pygments_lexer": "ipython3",
   "version": "3.9.12"
  }
 },
 "nbformat": 4,
 "nbformat_minor": 5
}
